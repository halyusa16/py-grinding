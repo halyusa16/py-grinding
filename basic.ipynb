{
  "nbformat": 4,
  "nbformat_minor": 0,
  "metadata": {
    "colab": {
      "provenance": [],
      "collapsed_sections": [
        "ywLVhyyId0uE",
        "dcO5VgGWolWs",
        "bGVARfOBa0Bl"
      ],
      "authorship_tag": "ABX9TyNHhMqw21XWiMqgi3tpyv1T",
      "include_colab_link": true
    },
    "kernelspec": {
      "name": "python3",
      "display_name": "Python 3"
    },
    "language_info": {
      "name": "python"
    }
  },
  "cells": [
    {
      "cell_type": "markdown",
      "metadata": {
        "id": "view-in-github",
        "colab_type": "text"
      },
      "source": [
        "<a href=\"https://colab.research.google.com/github/halyusa16/py-grinding/blob/main/basic.ipynb\" target=\"_parent\"><img src=\"https://colab.research.google.com/assets/colab-badge.svg\" alt=\"Open In Colab\"/></a>"
      ]
    },
    {
      "cell_type": "markdown",
      "source": [
        "## Variables"
      ],
      "metadata": {
        "id": "ywLVhyyId0uE"
      }
    },
    {
      "cell_type": "code",
      "execution_count": null,
      "metadata": {
        "colab": {
          "base_uri": "https://localhost:8080/"
        },
        "id": "-QOUqDyncDo6",
        "outputId": "71bbac6a-0cbd-4ce1-8545-fa7089231679"
      },
      "outputs": [
        {
          "output_type": "stream",
          "name": "stdout",
          "text": [
            "16\n",
            "Halyusa\n"
          ]
        }
      ],
      "source": [
        "# variable is created the moment i first assign a value to it\n",
        "# the data type will assigned when it set\n",
        "\n",
        "x = 16          # will be an int\n",
        "y = 'Halyusa'   # will be a string\n",
        "print(x)\n",
        "print(y)"
      ]
    },
    {
      "cell_type": "code",
      "source": [
        "x = 16\n",
        "x = 'Halyusa'\n",
        "print(x)      # it will print the last value it assigned to"
      ],
      "metadata": {
        "colab": {
          "base_uri": "https://localhost:8080/"
        },
        "id": "CWVCfp1bddrL",
        "outputId": "de618a85-601e-4f72-f38e-dfaea2739f69"
      },
      "execution_count": null,
      "outputs": [
        {
          "output_type": "stream",
          "name": "stdout",
          "text": [
            "Halyusa\n"
          ]
        }
      ]
    },
    {
      "cell_type": "code",
      "source": [
        "# casting\n",
        "# if i want to specify the data type of a variable, this can be done with casting\n",
        "x = str(3)\n",
        "y = int(3)\n",
        "z = float(3)\n",
        "print(x)\n",
        "print(y)\n",
        "print(z)"
      ],
      "metadata": {
        "colab": {
          "base_uri": "https://localhost:8080/"
        },
        "id": "cJTRLj8lebJz",
        "outputId": "2b40fbb3-32f3-4665-e173-ca5b05a56a52"
      },
      "execution_count": null,
      "outputs": [
        {
          "output_type": "stream",
          "name": "stdout",
          "text": [
            "3\n",
            "3\n",
            "3.0\n"
          ]
        }
      ]
    },
    {
      "cell_type": "code",
      "source": [
        "# i can get the data type of a variable with type() function\n",
        "x = 5\n",
        "y = 'Halyusa'\n",
        "print(type(x))\n",
        "print(type(y))"
      ],
      "metadata": {
        "colab": {
          "base_uri": "https://localhost:8080/"
        },
        "id": "us7w7Vj_erI5",
        "outputId": "2bcd46cd-3897-4253-e7b6-7d7e6d17de76"
      },
      "execution_count": null,
      "outputs": [
        {
          "output_type": "stream",
          "name": "stdout",
          "text": [
            "<class 'int'>\n",
            "<class 'str'>\n"
          ]
        }
      ]
    },
    {
      "cell_type": "code",
      "source": [
        "# variable names are case-sensitive\n",
        "a = 16\n",
        "A = 'Halyusa'\n",
        "print(a)\n",
        "print(A)"
      ],
      "metadata": {
        "colab": {
          "base_uri": "https://localhost:8080/"
        },
        "id": "S4SPNBCQe5PX",
        "outputId": "e03da84d-d6f8-427f-b7d8-058ee003408e"
      },
      "execution_count": null,
      "outputs": [
        {
          "output_type": "stream",
          "name": "stdout",
          "text": [
            "16\n",
            "Halyusa\n"
          ]
        }
      ]
    },
    {
      "cell_type": "code",
      "source": [
        "# i can assign many values to multiple variable\n",
        "x, y, z = 'melon', 'alpukat', 'pisang'\n",
        "print(x, y, z)"
      ],
      "metadata": {
        "colab": {
          "base_uri": "https://localhost:8080/"
        },
        "id": "TzyN71UcfN7T",
        "outputId": "54d4526f-0737-4974-b2c8-b168df075fa6"
      },
      "execution_count": null,
      "outputs": [
        {
          "output_type": "stream",
          "name": "stdout",
          "text": [
            "melon alpukat pisang\n"
          ]
        }
      ]
    },
    {
      "cell_type": "code",
      "source": [
        "# i can also add one value to multiple variables\n",
        "x = y = z = 'apel'\n",
        "print(x, y, z)"
      ],
      "metadata": {
        "colab": {
          "base_uri": "https://localhost:8080/"
        },
        "id": "CxgDcb7Jfkk1",
        "outputId": "24b9a3fe-f618-483d-ed75-fd1f4796ddf9"
      },
      "execution_count": null,
      "outputs": [
        {
          "output_type": "stream",
          "name": "stdout",
          "text": [
            "apel apel apel\n"
          ]
        }
      ]
    },
    {
      "cell_type": "code",
      "source": [
        "# unpacking a collection of values in a list\n",
        "fruits = ['melon', 'alpukat', 'pisang']\n",
        "x, y, z = fruits\n",
        "print(x, y, z)"
      ],
      "metadata": {
        "colab": {
          "base_uri": "https://localhost:8080/"
        },
        "id": "Fy0gMzHxf0Zn",
        "outputId": "2476f1a8-2f4a-4bdc-ad19-9739dbf7b085"
      },
      "execution_count": null,
      "outputs": [
        {
          "output_type": "stream",
          "name": "stdout",
          "text": [
            "melon alpukat pisang\n"
          ]
        }
      ]
    },
    {
      "cell_type": "code",
      "source": [
        "# while printing using print() function, i can use + operator to output multiple variables\n",
        "x = 'Halyusa '\n",
        "y = 'is a '\n",
        "z = 'Data Engineer'\n",
        "print(x + y + z)"
      ],
      "metadata": {
        "colab": {
          "base_uri": "https://localhost:8080/"
        },
        "id": "tTB8RhgbgMHj",
        "outputId": "23e958c3-a554-429d-df1a-1e019c6d8bc6"
      },
      "execution_count": null,
      "outputs": [
        {
          "output_type": "stream",
          "name": "stdout",
          "text": [
            "Halyusa is a Data Engineer\n"
          ]
        }
      ]
    },
    {
      "cell_type": "code",
      "source": [
        "# while printing, i can also add a mathematical operator\n",
        "x = 5\n",
        "y = 10\n",
        "print(x + y)"
      ],
      "metadata": {
        "colab": {
          "base_uri": "https://localhost:8080/"
        },
        "id": "pW69d36pg2K3",
        "outputId": "d97c03a5-c939-4684-fdd5-0d6dd86dcd91"
      },
      "execution_count": null,
      "outputs": [
        {
          "output_type": "stream",
          "name": "stdout",
          "text": [
            "15\n"
          ]
        }
      ]
    },
    {
      "cell_type": "code",
      "source": [
        "# global variable is a variable that created outside a function,\n",
        "# can be used, inside and outside a function\n",
        "\n",
        "x = 'Halyusa'\n",
        "\n",
        "def myfunc():\n",
        "  print('My name is ' + x)\n",
        "\n",
        "myfunc()"
      ],
      "metadata": {
        "colab": {
          "base_uri": "https://localhost:8080/"
        },
        "id": "p-yg9lYwg_hv",
        "outputId": "6948c23a-8cdc-41fb-ea19-e7762f9e5d89"
      },
      "execution_count": null,
      "outputs": [
        {
          "output_type": "stream",
          "name": "stdout",
          "text": [
            "My name is Halyusa\n"
          ]
        }
      ]
    },
    {
      "cell_type": "code",
      "source": [
        "# if there is a variable inside a function with the same name with the global variable,\n",
        "# it will not affect the global variable. and it just can be used inside the function\n",
        "\n",
        "x = 'Halyusa'\n",
        "\n",
        "def myfunc():\n",
        "  x = 'Data Engineer'       # this is the local variable\n",
        "  print('My name is ' + x)  # the x here will call the local variable\n",
        "\n",
        "myfunc()  # the function call here will use the local variable since it belongs to the function\n",
        "\n",
        "print('My name is ' + x)    # the function call here will use the global variable since it located outside the function"
      ],
      "metadata": {
        "colab": {
          "base_uri": "https://localhost:8080/"
        },
        "id": "rF07_mQohpPV",
        "outputId": "8e610231-77e0-40c2-8fac-dbd7cd5eac76"
      },
      "execution_count": null,
      "outputs": [
        {
          "output_type": "stream",
          "name": "stdout",
          "text": [
            "My name is Data Engineer\n",
            "My name is Halyusa\n"
          ]
        }
      ]
    },
    {
      "cell_type": "code",
      "source": [
        "# i can create a global variable inside a function using the keyword 'global'\n",
        "\n",
        "def myfunc():\n",
        "  global x        # this x variable is global\n",
        "  x = 'Halyusa'\n",
        "\n",
        "myfunc()\n",
        "\n",
        "print('My name is ' + x)  # this print will use the global variable assigned inside the function"
      ],
      "metadata": {
        "colab": {
          "base_uri": "https://localhost:8080/"
        },
        "id": "xUXyJ_1piTde",
        "outputId": "e95e82ec-a502-405a-e2b6-54d52e12af4b"
      },
      "execution_count": null,
      "outputs": [
        {
          "output_type": "stream",
          "name": "stdout",
          "text": [
            "My name is Halyusa\n"
          ]
        }
      ]
    },
    {
      "cell_type": "code",
      "source": [
        "# or i can change a global variable inside a function\n",
        "\n",
        "x = 'Halyusa'\n",
        "\n",
        "def myfunc():\n",
        "  global x\n",
        "  x = 'Data Engineer'\n",
        "\n",
        "myfunc()\n",
        "\n",
        "print('My name is ' + x)"
      ],
      "metadata": {
        "colab": {
          "base_uri": "https://localhost:8080/"
        },
        "id": "_O_LGzCfi7Or",
        "outputId": "47286fbe-87c7-4995-ad8a-601387d83bb3"
      },
      "execution_count": null,
      "outputs": [
        {
          "output_type": "stream",
          "name": "stdout",
          "text": [
            "My name is Data Engineer\n"
          ]
        }
      ]
    },
    {
      "cell_type": "markdown",
      "source": [
        "## String"
      ],
      "metadata": {
        "id": "dcO5VgGWolWs"
      }
    },
    {
      "cell_type": "code",
      "source": [
        "# i can use single or double quotation marks\n",
        "# i can use quotes inside a string, as long as it don't match the surrounding quotes\n",
        "print('Hello, my name is \"Halyusa\"')"
      ],
      "metadata": {
        "colab": {
          "base_uri": "https://localhost:8080/"
        },
        "id": "EIAkyMz5oqyR",
        "outputId": "5aff57e7-4fa1-446f-a477-f3e65aaf97f2"
      },
      "execution_count": null,
      "outputs": [
        {
          "output_type": "stream",
          "name": "stdout",
          "text": [
            "Hello, my name is \"Halyusa\"\n"
          ]
        }
      ]
    },
    {
      "cell_type": "code",
      "source": [
        "# i can assign string to a variable\n",
        "# and i can assign multiple string using three quotes\n",
        "a = 'Halyusa'\n",
        "print(a)\n",
        "\n",
        "b = '''namaku Halyusa\n",
        "Ard\n",
        "Wahyudi.'''\n",
        "print(b)"
      ],
      "metadata": {
        "colab": {
          "base_uri": "https://localhost:8080/"
        },
        "id": "GxiOurGGo8mE",
        "outputId": "22317eeb-e601-4e5e-fae8-69ff2deff163"
      },
      "execution_count": null,
      "outputs": [
        {
          "output_type": "stream",
          "name": "stdout",
          "text": [
            "Halyusa\n",
            "namaku Halyusa\n",
            "Ard\n",
            "Wahyudi.\n"
          ]
        }
      ]
    },
    {
      "cell_type": "code",
      "source": [
        "# string are arrays, a single character is a string with a length of 1\n",
        "# index starting at 0\n",
        "a = 'Halyusa'\n",
        "print(a[1])"
      ],
      "metadata": {
        "colab": {
          "base_uri": "https://localhost:8080/"
        },
        "id": "myG_Td-ypN0C",
        "outputId": "be4a3b4a-7515-48c0-8828-92ebd351d07a"
      },
      "execution_count": null,
      "outputs": [
        {
          "output_type": "stream",
          "name": "stdout",
          "text": [
            "a\n"
          ]
        }
      ]
    },
    {
      "cell_type": "code",
      "source": [
        "# looping through a string\n",
        "for x in 'Halyusa':\n",
        "  print(x)"
      ],
      "metadata": {
        "colab": {
          "base_uri": "https://localhost:8080/"
        },
        "id": "8nlIFFETpcui",
        "outputId": "59f4d2e8-04ba-4d7d-c6e2-d0d800fba0b8"
      },
      "execution_count": null,
      "outputs": [
        {
          "output_type": "stream",
          "name": "stdout",
          "text": [
            "H\n",
            "a\n",
            "l\n",
            "y\n",
            "u\n",
            "s\n",
            "a\n"
          ]
        }
      ]
    },
    {
      "cell_type": "code",
      "source": [
        "# length of aa string\n",
        "a = 'Halyusa'\n",
        "print(len(a))\n",
        "print(a[5])"
      ],
      "metadata": {
        "colab": {
          "base_uri": "https://localhost:8080/"
        },
        "id": "IcDBV7kNqozv",
        "outputId": "e5931530-082f-4a48-bb31-cdfa04d5ff3e"
      },
      "execution_count": null,
      "outputs": [
        {
          "output_type": "stream",
          "name": "stdout",
          "text": [
            "7\n",
            "s\n"
          ]
        }
      ]
    },
    {
      "cell_type": "code",
      "source": [
        "# check a certain phrase or character is present in a string, i can use in\n",
        "txt = 'Halyusa is a Data Engineer'\n",
        "print('Data' in txt)"
      ],
      "metadata": {
        "colab": {
          "base_uri": "https://localhost:8080/"
        },
        "id": "UJ3gtVuaqs4k",
        "outputId": "b5dc899c-8ade-4318-c42c-74aa16a89956"
      },
      "execution_count": null,
      "outputs": [
        {
          "output_type": "stream",
          "name": "stdout",
          "text": [
            "True\n"
          ]
        }
      ]
    },
    {
      "cell_type": "code",
      "source": [
        "txt = 'Halyusa is a Data Engineer'\n",
        "if 'Data' in txt:\n",
        "  print('Yes, \"Data\" is present')"
      ],
      "metadata": {
        "colab": {
          "base_uri": "https://localhost:8080/"
        },
        "id": "hPH1zP6kq2ye",
        "outputId": "9aad8a8e-c159-4aba-ae87-0016d1bcc23b"
      },
      "execution_count": null,
      "outputs": [
        {
          "output_type": "stream",
          "name": "stdout",
          "text": [
            "Yes, \"Data\" is present\n"
          ]
        }
      ]
    },
    {
      "cell_type": "code",
      "source": [
        "# i can also use not, to check if the certain phrase or character is NOT in a string\n",
        "txt = 'Halyusa is a Data Engineer'\n",
        "print('Data' not in txt)\n",
        "print('data' not in txt)"
      ],
      "metadata": {
        "colab": {
          "base_uri": "https://localhost:8080/"
        },
        "id": "9N6FXzQtrLQF",
        "outputId": "fd7b0c90-1fa5-467c-cd7a-56e7a5953677"
      },
      "execution_count": null,
      "outputs": [
        {
          "output_type": "stream",
          "name": "stdout",
          "text": [
            "False\n",
            "True\n"
          ]
        }
      ]
    },
    {
      "cell_type": "code",
      "source": [
        "txt = 'Halyusa is a Data Engineer'\n",
        "if 'data' not in txt:\n",
        "  print('Yes, \"data\" is not in txt')"
      ],
      "metadata": {
        "colab": {
          "base_uri": "https://localhost:8080/"
        },
        "id": "MD9Lv-PirXab",
        "outputId": "0983ee27-d6b4-4dbb-bcbf-17c596668760"
      },
      "execution_count": null,
      "outputs": [
        {
          "output_type": "stream",
          "name": "stdout",
          "text": [
            "Yes, \"data\" is not in txt\n"
          ]
        }
      ]
    },
    {
      "cell_type": "code",
      "source": [
        "# slicing\n",
        "# print character from index 2 to 5, 5 is not included\n",
        "b = 'Halyusa'\n",
        "print(b[2:5])\n",
        "\n",
        "# slicing from the beginning\n",
        "print(b[:5])\n",
        "\n",
        "# slicing to the end\n",
        "print(b[2:])\n",
        "\n",
        "# negative indexing, from y in position -4, to s that not included in position -2\n",
        "print(b[-4:-2])"
      ],
      "metadata": {
        "colab": {
          "base_uri": "https://localhost:8080/"
        },
        "id": "Ub_8bD5Rr7UT",
        "outputId": "a2828032-d629-4e89-ced4-962065c8e9ce"
      },
      "execution_count": null,
      "outputs": [
        {
          "output_type": "stream",
          "name": "stdout",
          "text": [
            "lyu\n",
            "Halyu\n",
            "lyusa\n",
            "yu\n"
          ]
        }
      ]
    },
    {
      "cell_type": "code",
      "source": [
        "# modify strings\n",
        "# upper and lower\n",
        "a = 'Halyusa'\n",
        "print(a.upper())\n",
        "print(a.lower())\n",
        "\n",
        "# remove whitespace from before and/or after the text\n",
        "b = ' Halyusa '\n",
        "print(b.strip())\n",
        "\n",
        "# replace string\n",
        "c = 'Halyusa'\n",
        "print(c.replace('a', 'i'))\n",
        "\n",
        "# split string\n",
        "# returns a list, where the text between the specified separator becomes the list items\n",
        "d = 'Halyusa, Ard, Wahyudi'\n",
        "print(d.split(','))"
      ],
      "metadata": {
        "colab": {
          "base_uri": "https://localhost:8080/"
        },
        "id": "Oo0jZbERtY97",
        "outputId": "60ee1a9a-817a-47a4-8a3f-675057d150a4"
      },
      "execution_count": null,
      "outputs": [
        {
          "output_type": "stream",
          "name": "stdout",
          "text": [
            "HALYUSA\n",
            "halyusa\n",
            "Halyusa\n",
            "Hilyusi\n",
            "['Halyusa', ' Ard', ' Wahyudi']\n"
          ]
        }
      ]
    },
    {
      "cell_type": "code",
      "source": [
        "# string concatenation\n",
        "# concat or combine two strings\n",
        "a = 'Halyusa'\n",
        "b = 'Ard'\n",
        "c = a + ' ' + b\n",
        "print(c)"
      ],
      "metadata": {
        "colab": {
          "base_uri": "https://localhost:8080/"
        },
        "id": "fYNcIzGDuk_5",
        "outputId": "c6a3abf1-1b93-45c6-b5bc-b4e6325b6c01"
      },
      "execution_count": null,
      "outputs": [
        {
          "output_type": "stream",
          "name": "stdout",
          "text": [
            "Halyusa Ard\n"
          ]
        }
      ]
    },
    {
      "cell_type": "code",
      "source": [
        "# F-Strings\n",
        "# i can combine strings and numbers by using f-strings or format() method\n",
        "\n",
        "fav_num = 16\n",
        "\n",
        "txt = f'My favorite number is {fav_num}'\n",
        "print(txt)\n",
        "\n",
        "# the place holder {placeholder}, can also include a modifier to format the value\n",
        "txt1 = f'My favorite number is {fav_num:.2f}'\n",
        "print(txt1)\n",
        "\n",
        "# placeholder can also contain a code\n",
        "txt2 = f'My favorite number is {fav_num * 12}'\n",
        "print(txt2)"
      ],
      "metadata": {
        "colab": {
          "base_uri": "https://localhost:8080/"
        },
        "id": "UZ2x_-J4vCtU",
        "outputId": "e20cbe4e-1e5f-4a25-af49-5c23c93c448b"
      },
      "execution_count": null,
      "outputs": [
        {
          "output_type": "stream",
          "name": "stdout",
          "text": [
            "My favorite number is 16\n",
            "My favorite number is 16.00\n",
            "My favorite number is 192\n"
          ]
        }
      ]
    },
    {
      "cell_type": "code",
      "source": [
        "txt = \"We are the so-called \\\"Vikings\\\" from the north.\"\n",
        "print(txt)"
      ],
      "metadata": {
        "colab": {
          "base_uri": "https://localhost:8080/"
        },
        "id": "b6kg1qJtwZER",
        "outputId": "c4e94635-1c59-44ea-829a-50aca2521454"
      },
      "execution_count": null,
      "outputs": [
        {
          "output_type": "stream",
          "name": "stdout",
          "text": [
            "We are the so-called \"Vikings\" from the north.\n"
          ]
        }
      ]
    },
    {
      "cell_type": "markdown",
      "source": [
        "## Booleans"
      ],
      "metadata": {
        "id": "bGVARfOBa0Bl"
      }
    },
    {
      "cell_type": "code",
      "source": [
        "# when comparing two values, the expression is evaluated and py will returns boolean\n",
        "print(16 > 10)\n",
        "print(10 == 10)\n",
        "print(16 < 10)"
      ],
      "metadata": {
        "colab": {
          "base_uri": "https://localhost:8080/"
        },
        "id": "FLGnTWmla2ll",
        "outputId": "90a97826-41c9-4261-c7ac-dc136f5cdd3f"
      },
      "execution_count": null,
      "outputs": [
        {
          "output_type": "stream",
          "name": "stdout",
          "text": [
            "True\n",
            "True\n",
            "False\n"
          ]
        }
      ]
    },
    {
      "cell_type": "code",
      "source": [
        "a = 16\n",
        "b = 10\n",
        "\n",
        "if a < b:\n",
        "  print(f'Yes, {a} is smaller than {b}')\n",
        "else:\n",
        "  print(f'No, {a} is not smaller than {b}')"
      ],
      "metadata": {
        "colab": {
          "base_uri": "https://localhost:8080/"
        },
        "id": "zOFtoiq9bNaH",
        "outputId": "e3f258b9-55da-48de-fd74-a465abfb1134"
      },
      "execution_count": null,
      "outputs": [
        {
          "output_type": "stream",
          "name": "stdout",
          "text": [
            "No, 16 is not smaller than 10\n"
          ]
        }
      ]
    },
    {
      "cell_type": "code",
      "source": [
        "a = 16\n",
        "print(isinstance(a, int))"
      ],
      "metadata": {
        "colab": {
          "base_uri": "https://localhost:8080/"
        },
        "id": "9Waa-MMvclSi",
        "outputId": "8c582b19-4626-4860-ea4a-045eca237ff2"
      },
      "execution_count": null,
      "outputs": [
        {
          "output_type": "stream",
          "name": "stdout",
          "text": [
            "True\n"
          ]
        }
      ]
    },
    {
      "cell_type": "code",
      "source": [
        "# most values are True: string, int, list, etc.\n",
        "# the ones that will return False is: False, empty string, 0, empty list, None, etc."
      ],
      "metadata": {
        "id": "ulmVoQNNc_om"
      },
      "execution_count": null,
      "outputs": []
    },
    {
      "cell_type": "code",
      "source": [
        "def myFunction() :\n",
        "  return True\n",
        "\n",
        "if myFunction():\n",
        "  print(\"YES!\")\n",
        "else:\n",
        "  print(\"NO!\")"
      ],
      "metadata": {
        "colab": {
          "base_uri": "https://localhost:8080/"
        },
        "id": "a36lY9HQdP4T",
        "outputId": "cdaa6ff8-8c55-4a04-a627-228da85a5ceb"
      },
      "execution_count": null,
      "outputs": [
        {
          "output_type": "stream",
          "name": "stdout",
          "text": [
            "YES!\n"
          ]
        }
      ]
    },
    {
      "cell_type": "markdown",
      "source": [
        "## Lists and Friends"
      ],
      "metadata": {
        "id": "DIutAT34d30n"
      }
    },
    {
      "cell_type": "code",
      "source": [
        "# there are 4 built in data types in python used for storing collections of data:\n",
        "# List, Tuple, Set, and Dictionary"
      ],
      "metadata": {
        "id": "_y9fk4iYd4-B"
      },
      "execution_count": null,
      "outputs": []
    },
    {
      "cell_type": "code",
      "source": [
        "# List is a collection which is ordered and changeable. Allows duplicate members."
      ],
      "metadata": {
        "id": "yqXg-QpSevDy"
      },
      "execution_count": null,
      "outputs": []
    },
    {
      "cell_type": "code",
      "source": [
        "listku = ['apel', 'pisang', 'melon', 'apel']\n",
        "\n",
        "print(listku)\n",
        "print('Isi listku adalah: ', listku)\n",
        "print('Type dari listku adalah: ', type(listku))\n",
        "print('Panjang listku adalah: ', len(listku))"
      ],
      "metadata": {
        "colab": {
          "base_uri": "https://localhost:8080/"
        },
        "id": "_Hhzkv-MfiEd",
        "outputId": "c4f656a5-2da3-42b0-c856-84bd646a61e4"
      },
      "execution_count": null,
      "outputs": [
        {
          "output_type": "stream",
          "name": "stdout",
          "text": [
            "['apel', 'pisang', 'melon', 'apel']\n",
            "Isi listku adalah:  ['apel', 'pisang', 'melon', 'apel']\n",
            "Type dari listku adalah:  <class 'list'>\n",
            "Panjang listku adalah:  4\n"
          ]
        }
      ]
    },
    {
      "cell_type": "code",
      "source": [
        "# accessing list\n",
        "listku = ['alpukat', 'pisang', 'melon', 'alpukat']\n",
        "\n",
        "print(listku[1])    # access items\n",
        "print(listku[-1])   # it can be negative indexed too\n",
        "print(listku[1:3])  # it can uses range of indexes too\n",
        "print(listku[:3])\n",
        "print(listku[1:])\n",
        "\n",
        "if 'alpukat' in listku:\n",
        "  print('Yes, \"alpukat\" is in listku')"
      ],
      "metadata": {
        "colab": {
          "base_uri": "https://localhost:8080/"
        },
        "id": "tI-QKKp_gCmP",
        "outputId": "446164d9-28b2-463c-f1e4-ae6ae38f52ab"
      },
      "execution_count": null,
      "outputs": [
        {
          "output_type": "stream",
          "name": "stdout",
          "text": [
            "pisang\n",
            "alpukat\n",
            "['pisang', 'melon']\n",
            "['alpukat', 'pisang', 'melon']\n",
            "['pisang', 'melon', 'alpukat']\n",
            "Yes, \"alpukat\" is in listku\n"
          ]
        }
      ]
    },
    {
      "cell_type": "code",
      "source": [
        "# changing list items\n",
        "listku = ['alpukat', 'pisang', 'melon', 'alpukat']\n",
        "\n",
        "listku[1] = 'semangka'\n",
        "print(listku)"
      ],
      "metadata": {
        "colab": {
          "base_uri": "https://localhost:8080/"
        },
        "id": "GoymI4wYg4xL",
        "outputId": "fea345b9-fd02-4c03-b25b-f1b59e4b7515"
      },
      "execution_count": null,
      "outputs": [
        {
          "output_type": "stream",
          "name": "stdout",
          "text": [
            "['alpukat', 'semangka', 'melon', 'alpukat']\n"
          ]
        }
      ]
    },
    {
      "cell_type": "code",
      "source": [
        "# Tuple is a collection which is ordered and unchangeable. Allows duplicate members."
      ],
      "metadata": {
        "id": "8QHylhDlfKDF"
      },
      "execution_count": null,
      "outputs": []
    },
    {
      "cell_type": "code",
      "source": [
        "# Set is a collection which is unordered, unchangeable, and unindexed. No duplicate members.\n",
        "# the values cannot be changed, but can be removed and added"
      ],
      "metadata": {
        "id": "8VEgaZiafRze"
      },
      "execution_count": null,
      "outputs": []
    },
    {
      "cell_type": "code",
      "source": [
        "# Dictionary is a collection which is ordered and changeable. No duplicate members."
      ],
      "metadata": {
        "id": "0h-GH_ISfXOf"
      },
      "execution_count": null,
      "outputs": []
    },
    {
      "cell_type": "code",
      "source": [
        "fruits = [\"apple\", \"banana\", \"cherry\", \"kiwi\", \"mango\"]\n",
        "\n",
        "newlist = [x for x in fruits if x == \"banana\"]\n",
        "print(newlist)"
      ],
      "metadata": {
        "colab": {
          "base_uri": "https://localhost:8080/"
        },
        "id": "NYFs1S6Q3YYm",
        "outputId": "0349916b-fcb3-43e7-fde2-076681febc7d"
      },
      "execution_count": null,
      "outputs": [
        {
          "output_type": "stream",
          "name": "stdout",
          "text": [
            "['banana']\n"
          ]
        }
      ]
    }
  ]
}